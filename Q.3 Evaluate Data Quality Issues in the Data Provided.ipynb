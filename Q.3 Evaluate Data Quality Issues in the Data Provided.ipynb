{
 "cells": [
  {
   "cell_type": "markdown",
   "id": "296efbb5",
   "metadata": {},
   "source": [
    "## What is the data quality Issue in the given data?"
   ]
  },
  {
   "cell_type": "code",
   "execution_count": 19,
   "id": "3d72231b",
   "metadata": {},
   "outputs": [],
   "source": [
    "import json\n",
    "import pprint as pp\n",
    "\n",
    "users_raw = [] #First we will open the users json file and store all the dictionaries in this list\n",
    "jsonraw = open('users.json', 'r')\n",
    "\n",
    "for ele in jsonraw:\n",
    "    x = json.loads(ele)\n",
    "    users_raw.append(x) # Stored individual dictionaires in the users_raw list"
   ]
  },
  {
   "cell_type": "code",
   "execution_count": 20,
   "id": "c5906979",
   "metadata": {},
   "outputs": [
    {
     "name": "stdout",
     "output_type": "stream",
     "text": [
      "{'_id': {'$oid': '5ff1e194b6a9d73a3a9f1052'},\n",
      " 'active': True,\n",
      " 'createdDate': {'$date': 1609687444800},\n",
      " 'lastLogin': {'$date': 1609687537858},\n",
      " 'role': 'consumer',\n",
      " 'signUpSource': 'Email',\n",
      " 'state': 'WI'}\n",
      "{'_id': {'$oid': '5ff1e194b6a9d73a3a9f1052'},\n",
      " 'active': True,\n",
      " 'createdDate': {'$date': 1609687444800},\n",
      " 'lastLogin': {'$date': 1609687537858},\n",
      " 'role': 'consumer',\n",
      " 'signUpSource': 'Email',\n",
      " 'state': 'WI'}\n",
      "{'_id': {'$oid': '5ff1e194b6a9d73a3a9f1052'},\n",
      " 'active': True,\n",
      " 'createdDate': {'$date': 1609687444800},\n",
      " 'lastLogin': {'$date': 1609687537858},\n",
      " 'role': 'consumer',\n",
      " 'signUpSource': 'Email',\n",
      " 'state': 'WI'}\n",
      "{'_id': {'$oid': '5ff1e1eacfcf6c399c274ae6'},\n",
      " 'active': True,\n",
      " 'createdDate': {'$date': 1609687530554},\n",
      " 'lastLogin': {'$date': 1609687530597},\n",
      " 'role': 'consumer',\n",
      " 'signUpSource': 'Email',\n",
      " 'state': 'WI'}\n",
      "{'_id': {'$oid': '5ff1e194b6a9d73a3a9f1052'},\n",
      " 'active': True,\n",
      " 'createdDate': {'$date': 1609687444800},\n",
      " 'lastLogin': {'$date': 1609687537858},\n",
      " 'role': 'consumer',\n",
      " 'signUpSource': 'Email',\n",
      " 'state': 'WI'}\n"
     ]
    }
   ],
   "source": [
    "for count,ele in enumerate(users_raw):\n",
    "    if count == 5:\n",
    "        break\n",
    "    pp.pprint(ele) #printing first 5 dictionaries for a quick view of the list"
   ]
  },
  {
   "cell_type": "code",
   "execution_count": 21,
   "id": "150d1043",
   "metadata": {},
   "outputs": [],
   "source": [
    "test = []\n",
    "for ele in users_raw: # Creating list of unique UserIDs\n",
    "    for key,value in ele.items():\n",
    "        if key == '_id':\n",
    "            tempdict = {value['$oid'] : 0}\n",
    "            test.append(tempdict)\n",
    "\n",
    "for ele in users_raw: # Checking how many times the userID is repeated in the database and storing it\n",
    "    for key,value in ele.items():\n",
    "        if key == '_id':\n",
    "            for i in test:\n",
    "                for key1,value1 in i.items():\n",
    "                    if value['$oid'] == key1:\n",
    "                        i[key1] = value1 +1"
   ]
  },
  {
   "cell_type": "code",
   "execution_count": 24,
   "id": "908a297d",
   "metadata": {},
   "outputs": [
    {
     "name": "stdout",
     "output_type": "stream",
     "text": [
      "{'5ff1e194b6a9d73a3a9f1052': 11}\n",
      "{'5ff1e194b6a9d73a3a9f1052': 11}\n",
      "{'5ff1e194b6a9d73a3a9f1052': 11}\n",
      "{'5ff1e1eacfcf6c399c274ae6': 4}\n",
      "{'5ff1e194b6a9d73a3a9f1052': 11}\n",
      "{'5ff1e194b6a9d73a3a9f1052': 11}\n",
      "{'5ff1e1e8cfcf6c399c274ad9': 1}\n",
      "{'5ff1e1b7cfcf6c399c274a5a': 1}\n",
      "{'5ff1e194b6a9d73a3a9f1052': 11}\n",
      "{'5ff1e1f1cfcf6c399c274b0b': 1}\n",
      "{'5ff1e194b6a9d73a3a9f1052': 11}\n",
      "{'5ff1e1eacfcf6c399c274ae6': 4}\n",
      "{'5ff1e194b6a9d73a3a9f1052': 11}\n",
      "{'5ff1e1eacfcf6c399c274ae6': 4}\n",
      "{'5ff1e194b6a9d73a3a9f1052': 11}\n",
      "{'5ff1e194b6a9d73a3a9f1052': 11}\n",
      "{'5ff1e1e4cfcf6c399c274ac3': 1}\n",
      "{'5ff1e1b4cfcf6c399c274a54': 1}\n",
      "{'5ff1e1eacfcf6c399c274ae6': 4}\n",
      "{'5ff1e194b6a9d73a3a9f1052': 11}\n"
     ]
    }
   ],
   "source": [
    "#printing the final output(20 rows) of the userIDs and the count of repetition of each userID\n",
    "for count,ele in enumerate(test):\n",
    "    if count == 20:\n",
    "        break\n",
    "    print(ele)"
   ]
  },
  {
   "cell_type": "markdown",
   "id": "d2897dab",
   "metadata": {},
   "source": [
    "### Conclusion\n",
    "\n",
    "* Data duplication is the major data quality issue found in the Users dataset.\n",
    "* We see above that many userIDs are repeated multiple times in the Users Dataset.\n",
    "* Repetition of data is major issue in Analytical world and it create problems such as:\n",
    "    * Negative targeting Implications\n",
    "    * Unnecessary data storage\n",
    "    * Processing power of systems increases becuase of data cleaning step\n",
    "\n",
    "    "
   ]
  },
  {
   "cell_type": "markdown",
   "id": "45a4f6de",
   "metadata": {},
   "source": []
  }
 ],
 "metadata": {
  "kernelspec": {
   "display_name": "Python 3",
   "language": "python",
   "name": "python3"
  },
  "language_info": {
   "codemirror_mode": {
    "name": "ipython",
    "version": 3
   },
   "file_extension": ".py",
   "mimetype": "text/x-python",
   "name": "python",
   "nbconvert_exporter": "python",
   "pygments_lexer": "ipython3",
   "version": "3.8.8"
  }
 },
 "nbformat": 4,
 "nbformat_minor": 5
}
